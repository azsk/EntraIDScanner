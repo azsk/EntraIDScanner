{
 "cells": [
  {
   "cell_type": "code",
   "execution_count": null,
   "metadata": {},
   "outputs": [],
   "source": [
    "from azskpy.main import get_hdinsight_security_scan_status\n",
    "APP_INSIGHT_KEY = \"#AI_KEY#\"\n",
    "sid, rg_name, res_name = \"#SID#\", \"#RG_NAME#\", \"#RES_NAME#\""
   ]
  },
  {
   "cell_type": "code",
   "execution_count": null,
   "metadata": {},
   "outputs": [],
   "source": [
    "sct = get_hdinsight_security_scan_status(spark, app_insight_key=APP_INSIGHT_KEY,\n",
    "                                   sid=sid, rg_name=rg_name, res_name=res_name)"
   ]
  }
 ],
 "metadata": {
  "kernelspec": {
   "display_name": "PySpark3",
   "language": "",
   "name": "pyspark3kernel"
  },
  "language_info": {
   "codemirror_mode": {
    "name": "python",
    "version": 3
   },
   "mimetype": "text/x-python",
   "name": "pyspark3",
   "pygments_lexer": "python3"
  }
 },
 "nbformat": 4,
 "nbformat_minor": 2
}
